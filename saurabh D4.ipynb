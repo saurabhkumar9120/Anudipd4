{
 "cells": [
  {
   "cell_type": "code",
   "execution_count": null,
   "id": "60bd4204-71f1-432b-8ed5-a2c78aa7cb8d",
   "metadata": {},
   "outputs": [],
   "source": [
    "#NESTED IF"
   ]
  },
  {
   "cell_type": "code",
   "execution_count": 5,
   "id": "507d4069-2ae3-43af-868a-cba7d4bd4c58",
   "metadata": {},
   "outputs": [
    {
     "name": "stdout",
     "output_type": "stream",
     "text": [
      "c is greter\n"
     ]
    }
   ],
   "source": [
    "a=5\n",
    "b=6\n",
    "c=9\n",
    "if a>b:\n",
    "    if a>c:\n",
    "        print(\"a is greater\")\n",
    "    else:\n",
    "        print(\"b is greter\")\n",
    "else:\n",
    "    if b>c:\n",
    "        print(\"b is greter\")\n",
    "    else:\n",
    "        print(\"c is greter\")"
   ]
  },
  {
   "cell_type": "code",
   "execution_count": 6,
   "id": "b15c9311-1c34-4b49-b9f7-b52c86f7dae4",
   "metadata": {},
   "outputs": [
    {
     "name": "stdout",
     "output_type": "stream",
     "text": [
      "both are equal\n"
     ]
    }
   ],
   "source": [
    "a=10\n",
    "b=20\n",
    "if a>b:\n",
    "    print(\"the number greter \")\n",
    "elif a>b:\n",
    "    print(\"the number greter\")\n",
    "else:\n",
    "     print(\"both are equal\")"
   ]
  },
  {
   "cell_type": "code",
   "execution_count": 7,
   "id": "7f1ca024-4994-418b-8a36-7ebea5050a47",
   "metadata": {},
   "outputs": [],
   "source": [
    "#Wap take 2 number as input and create a basic calculeter for it"
   ]
  },
  {
   "cell_type": "code",
   "execution_count": 9,
   "id": "3728e25f-dc34-4f48-ac26-01cb2b6f7836",
   "metadata": {},
   "outputs": [
    {
     "name": "stdin",
     "output_type": "stream",
     "text": [
      "enter the number 8\n",
      "enter the number 6\n",
      "enter the operater (()\n"
     ]
    },
    {
     "name": "stdout",
     "output_type": "stream",
     "text": [
      "enter the invalid operator\n"
     ]
    }
   ],
   "source": [
    "a=int(input(\"enter the number\"))\n",
    "b=int(input(\"enter the number\"))\n",
    "operator = input(\"enter the operater\")\n",
    "if operator == (\"+\"):\n",
    "    print(a+b)\n",
    "elif operator == (\"-\"):\n",
    "    print(a-b)\n",
    "elif operator == (\"/\"):\n",
    "     print(a/b)\n",
    "elif operator == (\"*\"):\n",
    "    print(a*b)\n",
    "else:\n",
    "    print (\"enter the invalid operator\")"
   ]
  },
  {
   "cell_type": "code",
   "execution_count": null,
   "id": "150093f7-700e-4fa2-839e-59e878b3f923",
   "metadata": {},
   "outputs": [],
   "source": []
  }
 ],
 "metadata": {
  "kernelspec": {
   "display_name": "Python 3 (ipykernel)",
   "language": "python",
   "name": "python3"
  },
  "language_info": {
   "codemirror_mode": {
    "name": "ipython",
    "version": 3
   },
   "file_extension": ".py",
   "mimetype": "text/x-python",
   "name": "python",
   "nbconvert_exporter": "python",
   "pygments_lexer": "ipython3",
   "version": "3.12.1"
  }
 },
 "nbformat": 4,
 "nbformat_minor": 5
}
